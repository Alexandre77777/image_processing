{
  "nbformat": 4,
  "nbformat_minor": 0,
  "metadata": {
    "colab": {
      "provenance": [],
      "authorship_tag": "ABX9TyNnx7FwpbXWROB84943oK6r",
      "include_colab_link": true
    },
    "kernelspec": {
      "name": "python3",
      "display_name": "Python 3"
    },
    "language_info": {
      "name": "python"
    }
  },
  "cells": [
    {
      "cell_type": "markdown",
      "metadata": {
        "id": "view-in-github",
        "colab_type": "text"
      },
      "source": [
        "<a href=\"https://colab.research.google.com/github/Alexandre77777/image_processing/blob/main/%D0%9F%D1%80%D0%BE%D0%B5%D0%BA%D1%82%D0%BD%D0%B0%D1%8F%20%D1%80%D0%B0%D0%B1%D0%BE%D1%82%D0%B0%20%E2%84%965.%20%D0%A0%D0%B0%D0%B7%D1%80%D0%B0%D0%B1%D0%BE%D1%82%D0%BA%D0%B0%20%D0%B0%D0%B2%D1%82%D0%BE%D0%BC%D0%B0%D1%82%D0%B8%D0%B7%D0%B8%D1%80%D0%BE%D0%B2%D0%B0%D0%BD%D0%BD%D0%BE%D0%B3%D0%BE%20%D1%80%D0%B5%D1%88%D0%B5%D0%BD%D0%B8%D1%8F%20%D0%B4%D0%BB%D1%8F%20%D1%80%D0%B0%D1%81%D0%BF%D0%BE%D0%B7%D0%BD%D0%B0%D0%B2%D0%B0%D0%BD%D0%B8%D1%8F%20%D0%BB%D0%B8%D1%86%20%D0%B2%20%D0%B2%D0%B8%D0%B4%D0%B5%D0%BE%D0%BF%D0%BE%D1%82%D0%BE%D0%BA%D0%B5/%D0%9F%D1%80%D0%BE%D0%B5%D0%BA%D1%82%D0%BD%D0%B0%D1%8F_%D1%80%D0%B0%D0%B1%D0%BE%D1%82%D0%B0_%E2%84%965_%D0%A0%D0%B0%D0%B7%D1%80%D0%B0%D0%B1%D0%BE%D1%82%D0%BA%D0%B0_%D0%B0%D0%B2%D1%82%D0%BE%D0%BC%D0%B0%D1%82%D0%B8%D0%B7%D0%B8%D1%80%D0%BE%D0%B2%D0%B0%D0%BD%D0%BD%D0%BE%D0%B3%D0%BE_%D1%80%D0%B5%D1%88%D0%B5%D0%BD%D0%B8%D1%8F_%D0%B4%D0%BB%D1%8F_%D1%80%D0%B0%D1%81%D0%BF%D0%BE%D0%B7%D0%BD%D0%B0%D0%B2%D0%B0%D0%BD%D0%B8%D1%8F_%D0%BB%D0%B8%D1%86_%D0%B2_%D0%B2%D0%B8%D0%B4%D0%B5%D0%BE%D0%BF%D0%BE%D1%82%D0%BE%D0%BA%D0%B5.ipynb\" target=\"_parent\"><img src=\"https://colab.research.google.com/assets/colab-badge.svg\" alt=\"Open In Colab\"/></a>"
      ]
    },
    {
      "cell_type": "markdown",
      "source": [
        "# **Проектная работа №5. Разработка автоматизированного решения для  распознавания лиц в видеопотоке**"
      ],
      "metadata": {
        "id": "rm_HrvDTq5yi"
      }
    },
    {
      "cell_type": "markdown",
      "source": [
        "**Цель:** Интеграция лучшего алгоритма распознавания лиц, выбранного на основе анализа из практической работы №5, в [существующий проект](https://github.com/Alexandre77777/Face-Recognition) по распознаванию лиц.\n"
      ],
      "metadata": {
        "id": "oqyMgwfsq4eH"
      }
    },
    {
      "cell_type": "markdown",
      "source": [
        "**Работа выполняется в десктопной среде разработки: Pycharm или VS Code**"
      ],
      "metadata": {
        "id": "dQ5VJ7QbsTTY"
      }
    },
    {
      "cell_type": "markdown",
      "source": [
        "\n",
        "**Шаги выполнения:**\n",
        "\n",
        "1. Клонирование проекта:\n",
        "   - Склонируйте репозиторий проекта по распознаванию лиц (OpenCV + Python) с использованием команды:\n",
        "     ```\n",
        "     git clone https://github.com/Alexandre77777/Face-Recognition.git\n",
        "     ```\n",
        "   - Установите все необходимые зависимости из файла requirements.txt:\n",
        "     ```\n",
        "     pip install -r requirements.txt\n",
        "     ```\n",
        "\n",
        "2. Анализ результатов практической работы №5:\n",
        "   - Повторно проанализируйте результаты практической работы №5, где вы сравнивали различные алгоритмы распознавания лиц.\n",
        "   - Выберите алгоритм, показавший наилучшие результаты.\n",
        "\n",
        "3. Интеграция выбранного алгоритма:\n",
        "   - Изучите структуру существующего проекта, особенно файлы trainer.py и face_recognition.py.\n",
        "   - Модифицируйте trainer.py, чтобы он поддерживал тренировку выбранного вами алгоритма наряду с существующим LBPH.\n",
        "   - Обновите face_recognition.py, чтобы он мог использовать новый алгоритм для распознавания лиц.\n",
        "\n",
        "4. Тестирование и оценка:\n",
        "   - Проведите тестирование обновленной системы на различных наборах данных.\n",
        "   - Оцените, как интеграция нового алгоритма повлияла на общую производительность системы.\n",
        "\n",
        "5. Документация и отчет:\n",
        "   - Обновите документацию проекта (комментарии и readme.md), добавив информацию о добавленном Вами алгоритме и прочих изменениях, которые Вы внесете.\n",
        "   - Разместите проект в отдельном github-репозитории\n"
      ],
      "metadata": {
        "id": "LTNxvliRqzHg"
      }
    }
  ]
}