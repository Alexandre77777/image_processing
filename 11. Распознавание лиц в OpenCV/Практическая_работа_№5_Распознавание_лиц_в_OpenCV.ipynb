{
  "nbformat": 4,
  "nbformat_minor": 0,
  "metadata": {
    "colab": {
      "provenance": [],
      "authorship_tag": "ABX9TyM5ZWQGT/mGIjKflLEg2MkP",
      "include_colab_link": true
    },
    "kernelspec": {
      "name": "python3",
      "display_name": "Python 3"
    },
    "language_info": {
      "name": "python"
    }
  },
  "cells": [
    {
      "cell_type": "markdown",
      "metadata": {
        "id": "view-in-github",
        "colab_type": "text"
      },
      "source": [
        "<a href=\"https://colab.research.google.com/github/Alexandre77777/image_processing/blob/main/11.%20%D0%A0%D0%B0%D1%81%D0%BF%D0%BE%D0%B7%D0%BD%D0%B0%D0%B2%D0%B0%D0%BD%D0%B8%D0%B5%20%D0%BB%D0%B8%D1%86%20%D0%B2%20OpenCV/%D0%9F%D1%80%D0%B0%D0%BA%D1%82%D0%B8%D1%87%D0%B5%D1%81%D0%BA%D0%B0%D1%8F_%D1%80%D0%B0%D0%B1%D0%BE%D1%82%D0%B0_%E2%84%965_%D0%A0%D0%B0%D1%81%D0%BF%D0%BE%D0%B7%D0%BD%D0%B0%D0%B2%D0%B0%D0%BD%D0%B8%D0%B5_%D0%BB%D0%B8%D1%86_%D0%B2_OpenCV.ipynb\" target=\"_parent\"><img src=\"https://colab.research.google.com/assets/colab-badge.svg\" alt=\"Open In Colab\"/></a>"
      ]
    },
    {
      "cell_type": "markdown",
      "metadata": {
        "id": "iO52GV-yBPus"
      },
      "source": [
        "# **Практическая работа №5. Распознавание лиц в OpenCV**"
      ]
    },
    {
      "cell_type": "markdown",
      "source": [
        "**Цель:** Сравнить три алгоритма распознавания лиц (EigenFaces, FisherFaces, LBPH) по качеству распознавания, подобрать для каждого лучшие параметры и выбрать наилучший алгоритм."
      ],
      "metadata": {
        "id": "_Y90eMmgpXIp"
      }
    },
    {
      "cell_type": "markdown",
      "source": [
        "1. **Подготовка данных:**\n",
        "   - Соберите набор данных, содержащий изображения лиц различных людей в различных условиях освещения.\n",
        "   - Разделите данные на обучающую и тестовую выборки."
      ],
      "metadata": {
        "id": "ANFNEYKDpbSu"
      }
    },
    {
      "cell_type": "code",
      "source": [
        "# Ваш код"
      ],
      "metadata": {
        "id": "TBIVxaKZpjMF"
      },
      "execution_count": null,
      "outputs": []
    },
    {
      "cell_type": "markdown",
      "source": [
        "2. **Реализация алгоритмов:**\n",
        "   - Реализуйте три алгоритма распознавания лиц в OpenCV: EigenFaces, FisherFaces и LBPH.\n",
        "   - Для каждого алгоритма используйте функции `cv2.face.createEigenFaceRecognizer()`, `cv2.face.createFisherFaceRecognizer()` и `cv2.face.createLBPHFaceRecognizer()` соответственно."
      ],
      "metadata": {
        "id": "G7kCCkmKpcqY"
      }
    },
    {
      "cell_type": "code",
      "source": [
        "# Ваш код"
      ],
      "metadata": {
        "id": "hm4LANc9plr5"
      },
      "execution_count": null,
      "outputs": []
    },
    {
      "cell_type": "markdown",
      "source": [
        "3. **Подбор параметров:**\n",
        "   - Для EigenFaces и FisherFaces подберите оптимальное значение `num_components`, начиная с 0 и увеличивая до тех пор, пока качество не начнет ухудшаться.\n",
        "   - Для LBPH подберите оптимальные значения `radius`, `neighbors`, `grid_x` и `grid_y`, начиная с значений по умолчанию и изменяя их в разумных пределах.\n",
        "   - Для всех алгоритмов подберите оптимальное значение `threshold`, начиная с `DBL_MAX` и уменьшая до тех пор, пока качество не начнет ухудшаться."
      ],
      "metadata": {
        "id": "b8h6PG9speYS"
      }
    },
    {
      "cell_type": "code",
      "source": [
        "# Ваш код"
      ],
      "metadata": {
        "id": "HcvBiXrqpl8O"
      },
      "execution_count": null,
      "outputs": []
    },
    {
      "cell_type": "markdown",
      "source": [
        "4. **Оценка качества:**\n",
        "   - Обучите каждый алгоритм на обучающей выборке с подобранными параметрами.\n",
        "   - Оцените качество распознавания на тестовой выборке. В тестовой выборке должно быть минимум 10 лиц"
      ],
      "metadata": {
        "id": "NSAIKEiBpgFR"
      }
    },
    {
      "cell_type": "code",
      "source": [
        "# Ваш код"
      ],
      "metadata": {
        "id": "NljKfWqupmLM"
      },
      "execution_count": null,
      "outputs": []
    },
    {
      "cell_type": "markdown",
      "source": [
        "5. **Выбор лучшего алгоритма:**\n",
        "   - На основе результатов сравнения выберите алгоритм, который показал наилучшее качество распознавания лиц."
      ],
      "metadata": {
        "id": "FUyCnV7KphrF"
      }
    },
    {
      "cell_type": "code",
      "source": [
        "# Ваш код"
      ],
      "metadata": {
        "id": "9G9nKvnop2XS"
      },
      "execution_count": null,
      "outputs": []
    }
  ]
}