{
  "nbformat": 4,
  "nbformat_minor": 0,
  "metadata": {
    "colab": {
      "provenance": [],
      "authorship_tag": "ABX9TyMh7afW+0jTualxkTeOxERL",
      "include_colab_link": true
    },
    "kernelspec": {
      "name": "python3",
      "display_name": "Python 3"
    },
    "language_info": {
      "name": "python"
    }
  },
  "cells": [
    {
      "cell_type": "markdown",
      "metadata": {
        "id": "view-in-github",
        "colab_type": "text"
      },
      "source": [
        "<a href=\"https://colab.research.google.com/github/Alexandre77777/image_processing/blob/main/5.%20%D0%9E%D1%81%D0%BD%D0%BE%D0%B2%D0%BD%D1%8B%D0%B5%20%D0%BC%D0%B5%D1%82%D0%BE%D0%B4%D1%8B%20OpenCV%20(%D0%A7%D0%B0%D1%81%D1%82%D1%8C%20%E2%84%962)/%D0%9F%D1%80%D0%B0%D0%BA%D1%82%D0%B8%D1%87%D0%B5%D1%81%D0%BA%D0%B0%D1%8F_%D1%80%D0%B0%D0%B1%D0%BE%D1%82%D0%B0_%E2%84%964_%D0%9E%D1%81%D0%BD%D0%BE%D0%B2%D0%BD%D1%8B%D0%B5_%D0%BC%D0%B5%D1%82%D0%BE%D0%B4%D1%8B_OpenCV_%D0%A7%D0%B0%D1%81%D1%82%D1%8C_%E2%84%962.ipynb\" target=\"_parent\"><img src=\"https://colab.research.google.com/assets/colab-badge.svg\" alt=\"Open In Colab\"/></a>"
      ]
    },
    {
      "cell_type": "markdown",
      "source": [
        "# **Практическая работа №4. Основные методы OpenCV (Часть №2). Базовые операции**"
      ],
      "metadata": {
        "id": "irICmRjV4hTE"
      }
    },
    {
      "cell_type": "markdown",
      "source": [
        "## **Базовый уровень**"
      ],
      "metadata": {
        "id": "nqddV6Ea1HTU"
      }
    },
    {
      "cell_type": "markdown",
      "source": [
        "---\n",
        "\n",
        "### **Задание №1. Напишите функцию, которая принимает на вход строку с ссылкой на изображение из сети Интернет и возвращает открытое изображение в OpenCV**"
      ],
      "metadata": {
        "id": "6lU_5kO2BazL"
      }
    },
    {
      "cell_type": "code",
      "execution_count": null,
      "metadata": {
        "id": "XWKF4Im2BazL"
      },
      "outputs": [],
      "source": [
        "# Ваш код"
      ]
    },
    {
      "cell_type": "markdown",
      "source": [
        "---"
      ],
      "metadata": {
        "id": "L1jn-eFfFEkz"
      }
    },
    {
      "cell_type": "markdown",
      "source": [
        "### **Задание 2: Создание цветных градиентов**"
      ],
      "metadata": {
        "id": "ap2xV0w7FB8W"
      }
    },
    {
      "cell_type": "markdown",
      "source": [
        "\n",
        "\n",
        "\n",
        "**Задание:**\n",
        "\n",
        "1. Создайте цветное изображение размером 512x512 пикселей.\n",
        "2. Реализуйте вертикальный градиент от зеленого к синему цвету:\n",
        "   - Сверху изображение должно быть полностью зеленым.\n",
        "   - Снизу изображение должно быть насыщенного синего цвета.\n",
        "   - Градиент должен плавно изменяться по вертикали.\n",
        "3. Отобразите полученное изображение, убедившись в корректности градиента.\n",
        "\n",
        "**Подсказки:**\n",
        "\n",
        "- Используйте функции библиотеки NumPy для создания и заполнения массива изображения.\n",
        "- Помните, что в OpenCV цветовое пространство BGR (Blue, Green, Red).\n",
        "\n"
      ],
      "metadata": {
        "id": "kgznbDw-pFUi"
      }
    },
    {
      "cell_type": "code",
      "source": [
        "# Ваш код"
      ],
      "metadata": {
        "id": "pAa1yRC7tSDv"
      },
      "execution_count": null,
      "outputs": []
    },
    {
      "cell_type": "markdown",
      "source": [
        "---"
      ],
      "metadata": {
        "id": "e6vsyWrTzr8g"
      }
    },
    {
      "cell_type": "markdown",
      "source": [
        "### **Задание №3. Рисование сложных фигур**"
      ],
      "metadata": {
        "id": "zBOBn67OFJCv"
      }
    },
    {
      "cell_type": "markdown",
      "source": [
        "\n",
        "\n",
        "**Задание:**\n",
        "\n",
        "1. Создайте черное изображение размером 800x600 пикселей.\n",
        "2. Нарисуйте на изображении следующие фигуры:\n",
        "   - Красный круг с центром в точке (400, 300) и радиусом 100 пикселей.\n",
        "   - Синий квадрат со стороной 200 пикселей, вписанный в круг из предыдущего пункта.\n",
        "   - Зеленый треугольник, вершины которого совпадают с тремя вершинами квадрата.\n",
        "3. Добавьте текст \"OpenCV\" белого цвета внутри квадрата, используя шрифт, поддерживающий кириллицу.\n",
        "4. Отобразите полученное изображение.\n",
        "\n",
        "**Подсказки:**\n",
        "\n",
        "- Используйте функции `cv.circle()`, `cv.rectangle()`, `cv.polylines()` для рисования фигур.\n",
        "- Для задания координат треугольника вам потребуется вычислить позиции трех вершин квадрата.\n",
        "- Функция `cv.putText()` поможет добавить текст на изображение."
      ],
      "metadata": {
        "id": "UMEfwQKepF60"
      }
    },
    {
      "cell_type": "code",
      "source": [
        "# Ваш код"
      ],
      "metadata": {
        "id": "gH7v4OVttSvi"
      },
      "execution_count": null,
      "outputs": []
    },
    {
      "cell_type": "markdown",
      "source": [
        "---"
      ],
      "metadata": {
        "id": "XU_WNSugz2Ti"
      }
    },
    {
      "cell_type": "markdown",
      "source": [
        "### **Задание №4. Интерактивное выделение и преобразование области интереса**\n"
      ],
      "metadata": {
        "id": "inTuKa6UFMgp"
      }
    },
    {
      "cell_type": "markdown",
      "source": [
        "\n",
        "**Задание:**\n",
        "\n",
        "Реализуйте функцию, которая принимает на вход открытое изображение, а затем:\n",
        "1. Позволяет пользователю указать область интереса (ROI) путем ввода координат верхнего левого и нижнего правого углов.\n",
        "2. Вырезает указанную область из изображения.\n",
        "3. Отражает эту область по вертикали и горизонтали.\n",
        "4. Вставляет преобразованную область обратно в исходное изображение на исходное место.\n",
        "5. Возвращает конечное изображение.\n",
        "\n",
        "*Отобразите рядом изображение до и после обработки*\n",
        "\n",
        "**Подсказки:**\n",
        "\n",
        "- Используйте функции ввода `input()` для получения координат от пользователя.\n",
        "- Для отражения воспользуйтесь функцией `cv.flip()` или реализуйте свой алгоритм с использованием срезов NumPy.\n",
        "\n",
        "\n"
      ],
      "metadata": {
        "id": "QGnxs2t1pKx8"
      }
    },
    {
      "cell_type": "code",
      "source": [
        "# Ваш код"
      ],
      "metadata": {
        "id": "VZ264X260-XF"
      },
      "execution_count": null,
      "outputs": []
    },
    {
      "cell_type": "markdown",
      "source": [
        "---"
      ],
      "metadata": {
        "id": "ytqtJd690-fu"
      }
    },
    {
      "cell_type": "markdown",
      "source": [
        "### **Задание 5: Реализация функции коррекции яркости и контраста**\n"
      ],
      "metadata": {
        "id": "l-TearhvFO9_"
      }
    },
    {
      "cell_type": "markdown",
      "source": [
        "\n",
        "**Задание:**\n",
        "\n",
        "1. Напишите собственную функцию для изменения яркости и контраста изображения без использования `cv.convertScaleAbs()`.\n",
        "2. Функция должна принимать параметры `alpha` (коэффициент контраста) и `beta` (сдвиг яркости).\n",
        "3. Проверьте работу функции на цветном изображении с различными значениями `alpha` и `beta`.\n",
        "4. Сравните результат вашей функции с результатом `cv.convertScaleAbs()`.\n",
        "\n",
        "**Подсказки:**\n",
        "\n",
        "- Убедитесь, что значения пикселей после преобразования остаются в диапазоне [0, 255].\n",
        "- Для безопасного преобразования используйте функцию `np.clip()`.\n",
        "\n"
      ],
      "metadata": {
        "id": "yepDY1DHpPdT"
      }
    },
    {
      "cell_type": "code",
      "source": [
        "# Ваш код"
      ],
      "metadata": {
        "id": "yy-GKPRp1bV0"
      },
      "execution_count": null,
      "outputs": []
    },
    {
      "cell_type": "markdown",
      "source": [
        "---"
      ],
      "metadata": {
        "id": "RWMyeMda1cz4"
      }
    },
    {
      "cell_type": "markdown",
      "source": [
        "## **Повышенный уровень**"
      ],
      "metadata": {
        "id": "3FSkP_u33GWz"
      }
    },
    {
      "cell_type": "markdown",
      "source": [
        "### **Комплексное задание №1: Анализ качества интерполяции изображений**\n"
      ],
      "metadata": {
        "id": "KOZs_uWTE7xf"
      }
    },
    {
      "cell_type": "markdown",
      "source": [
        "\n",
        "**Цель задания:**\n",
        "\n",
        "- Закрепить понимание различных методов интерполяции и их влияния на качество изображений.\n",
        "- Научиться применять метрики качества (например, MSE) для количественной оценки результатов обработки изображений.\n",
        "- Практиковаться в написании эффективного и корректного кода для задач компьютерного зрения.\n",
        "\n",
        "**Описание задания:**\n",
        "\n",
        "- В данном задании вам предстоит исследовать влияние различных методов интерполяции на качество увеличенных изображений. Вы должны реализовать функцию для вычисления среднеквадратичной ошибки (MSE) между оригинальным изображением и его обработанной версией после уменьшения и последующего увеличения с использованием различных методов интерполяции.\n",
        "\n",
        "**Требования к выполнению задания:**\n",
        "\n",
        "1. **Реализация функции для вычисления MSE:**\n",
        "\n",
        "   - Напишите функцию, которая принимает на вход два изображения одинакового размера и вычисляет среднеквадратичную ошибку (MSE) между ними. Формула для расчета MSE:\n",
        "\n",
        "   $$\n",
        "   \\text{MSE} = \\frac{1}{N} \\sum_{i=1}^{N} (I_{\\text{original}}(i) - I_{\\text{processed}}(i))^2\n",
        "   $$\n",
        "\n",
        "   где:\n",
        "   - $N$ — общее количество пикселей в изображении.\n",
        "   - $I_{\\text{original}}(i)$ и $I_{\\text{processed}}(i)$ — значения интенсивности пикселя $i$ в исходном и обработанном изображениях соответственно.\n",
        "\n",
        "2. **Сравнение методов интерполяции:**\n",
        "\n",
        "   - Используйте следующие методы интерполяции при изменении размера изображения:\n",
        "     - **Метод ближайшего соседа (Nearest Neighbor)**\n",
        "     - **Билинейная интерполяция (Bilinear Interpolation)**\n",
        "     - **Бикубическая интерполяция (Bicubic Interpolation)**\n",
        "\n",
        "   - Для каждого метода выполните следующие шаги:\n",
        "     - **а) Уменьшение изображения:**\n",
        "       - Уменьшите исходное изображение по каждой оси в 2 и 4 раза (т.е. по площади в 4 и 16 раз соответственно) с использованием выбранного метода интерполяции.\n",
        "     - **б) Увеличение изображения:**\n",
        "       - Увеличьте полученное уменьшенное изображение обратно до исходного размера, используя тот же метод интерполяции.\n",
        "     - **в) Вычисление MSE:**\n",
        "       - Вычислите MSE между исходным изображением и восстановленным после увеличения.\n",
        "   \n",
        "   - Повторите эти шаги для каждого метода интерполяции и каждого коэффициента масштабирования (2 и 4 раза).\n",
        "\n",
        "3. **Анализ и представление результатов:**\n",
        "\n",
        "   - Представьте результаты в виде таблицы, где для каждого метода интерполяции и коэффициента масштабирования указано значение MSE.\n",
        "   - Сравните полученные значения MSE между методами:\n",
        "     - Какой метод дает наименьшую ошибку при разных коэффициентах масштабирования?\n",
        "     - Как изменение коэффициента масштабирования влияет на качество восстановления изображения для каждого метода?\n",
        "   - Сделайте выводы о том, какой метод интерполяции предпочтительнее использовать при увеличении изображений и почему.\n",
        "\n"
      ],
      "metadata": {
        "id": "_Gp8504F5JTD"
      }
    },
    {
      "cell_type": "markdown",
      "source": [
        "**Дополнительные указания:**\n",
        "\n",
        "- **Работа с цветными изображениями:**\n",
        "  - Если вы работаете с цветными изображениями, вычисляйте MSE для каждого цветового канала (R, G, B) и затем усредняйте, либо преобразуйте изображение в оттенки серого перед обработкой.\n",
        "\n",
        "- **Визуализация:**\n",
        "  - Для наглядности вы можете дополнительно визуализировать исходные и восстановленные изображения, а также показать разницу между ними.\n",
        "  - Используйте библиотеку **matplotlib** для отображения изображений в Colab.\n",
        "\n",
        "\n"
      ],
      "metadata": {
        "id": "3WNPh-1l4rry"
      }
    },
    {
      "cell_type": "markdown",
      "source": [
        "**Пример структуры программы:**\n",
        "\n",
        "- **Функция для вычисления MSE:**\n",
        "  ```python\n",
        "  def calculate_mse(original_image, processed_image):\n",
        "      # Ваш код для вычисления MSE\n",
        "  ```\n",
        "  \n",
        "- **Основная функция для сравнения методов:**\n",
        "  ```python\n",
        "  def compare_interpolation_methods(image_path):\n",
        "      # Загрузка изображения\n",
        "      # Применение методов интерполяции с разными коэффициентами масштабирования\n",
        "      # Вычисление MSE для каждого случая\n",
        "      # Представление и анализ результатов\n",
        "  ```\n",
        "  \n",
        "\n"
      ],
      "metadata": {
        "id": "sAPxJnH1Fti3"
      }
    },
    {
      "cell_type": "markdown",
      "source": [
        "**Ожидаемый результат:**\n",
        "\n",
        "- Таблица с значениями MSE для каждого метода интерполяции и коэффициента масштабирования.\n",
        "- Выводы по результатам анализа, например:\n",
        "\n",
        "| Метод интерполяции    | Коэффициент масштабирования | MSE         |\n",
        "|-----------------------|-----------------------------|-------------|\n",
        "| Ближайший сосед       | Уменьшение в 2 раза         | Значение 1  |\n",
        "| Ближайший сосед       | Уменьшение в 4 раза         | Значение 2  |\n",
        "| Билинейная интерполяция | Уменьшение в 2 раза       | Значение 3  |\n",
        "| ...                   | ...                         | ...         |\n",
        "\n",
        "- Заключение о том, какой метод и при каком масштабировании сохраняет наилучшее качество изображения."
      ],
      "metadata": {
        "id": "sREzoxPcFrzY"
      }
    },
    {
      "cell_type": "code",
      "source": [
        "# Ваш код"
      ],
      "metadata": {
        "id": "spCTcueZ5Alv"
      },
      "execution_count": null,
      "outputs": []
    },
    {
      "cell_type": "markdown",
      "source": [
        "---"
      ],
      "metadata": {
        "id": "_wozUBpC5XqS"
      }
    },
    {
      "cell_type": "markdown",
      "source": [
        "### **Комплексное задание №2: Создание HDR-подобного эффекта на обычном изображении**"
      ],
      "metadata": {
        "id": "MrupBwi6xE7B"
      }
    },
    {
      "cell_type": "markdown",
      "source": [
        "#### **Описание задания:**\n",
        "\n",
        "  - В этом задании вам необходимо разработать программу на Python с использованием библиотеки OpenCV, которая преобразует обычное изображение в изображение с HDR-подобным эффектом. Вы должны реализовать собственный метод объединения изображений с разной экспозицией, используя операции NumPy.\n"
      ],
      "metadata": {
        "id": "SIKAmQ3QxHKv"
      }
    },
    {
      "cell_type": "markdown",
      "source": [
        "#### **Основные определения:**\n",
        "\n",
        "1. **Экспозиция** — это количество света, которое попадает на светочувствительный элемент камеры (матрицу или пленку) во время съемки. Экспозиция определяется сочетанием трех параметров:\n",
        "\n",
        "  - **Выдержка**: время, в течение которого затвор камеры остается открытым, позволяя свету попасть на матрицу.\n",
        "  - **Диафрагма**: размер отверстия в объективе, через которое проходит свет; измеряется в числах f/стоп.\n",
        "  - **Чувствительность ISO**: уровень чувствительности матрицы камеры к свету.\n",
        "\n",
        "  > Правильная установка этих параметров позволяет получить изображение с оптимальной яркостью и контрастностью, отображая детали как в светлых, так и в темных областях.\n",
        "\n",
        "\n",
        "2. **HDR (High Dynamic Range) изображение** — это изображение с расширенным динамическим диапазоном яркости. Динамический диапазон представляет разницу между самыми темными и самыми светлыми участками изображения. HDR-изображения позволяют отобразить детали во всех областях сцены, даже если контраст между тенями и уровнями светам очень велик.\n",
        "\n",
        "- HDR-эффект достигается путем:\n",
        "\n",
        "  - **Объединения нескольких изображений** одной и той же сцены, снятых с разными настройками экспозиции (недоэкспонированное, нормально экспонированное и переэкспонированное). Это позволяет захватить полный диапазон яркостей сцены.\n",
        "  - **Применения специальных алгоритмов обработки**, которые расширяют динамический диапазон одного изображения, усиливая детали в тенях и светах.\n",
        "\n",
        "  > Используя HDR, фотографы и специалисты по обработке изображений могут создавать богатые деталями и реалистичные изображения, близкие к тому, как человеческий глаз воспринимает мир."
      ],
      "metadata": {
        "id": "2UugzhCayUbb"
      }
    },
    {
      "cell_type": "markdown",
      "source": [
        "#### **Цели:**\n",
        "\n",
        "- Научиться работать с изображениями в OpenCV без использования готовых функций для смешивания изображений.\n",
        "- Освоить базовые операции обработки изображений: изменение яркости, объединение изображений, повышение контрастности.\n",
        "- Получить навыки создания эффектов с помощью операций NumPy.\n"
      ],
      "metadata": {
        "id": "MWhia93jxJa3"
      }
    },
    {
      "cell_type": "markdown",
      "source": [
        "#### **Требования к программе:**\n",
        "\n",
        "1. **Загрузка изображения:**\n",
        "   - Программа должна быть реализована в виде функции или набора функций, основная функция получает на вход исходное изображение, открытое заранее в OpenCV и возвращает обработанное изображение.\n",
        "\n",
        "2. **Создание виртуальных экспозиций:**\n",
        "   - На основе исходного изображения создать несколько версий изображения с разной экспозицией:\n",
        "     - **Недоэкспонированное** изображение (темнее исходного).\n",
        "     - **Правильно экспонированное** изображение (без изменений).\n",
        "     - **Переэкспонированное** изображение (светлее исходного).\n",
        "   - Для изменения экспозиции можно использовать простые операции изменения яркости:\n",
        "     - Уменьшение или увеличение яркости путем умножения пикселей на коэффициент. Оптимальный коэффициент Вы выбираете сами.\n",
        "\n",
        "3. **Объединение экспозиций:**\n",
        "   - Используйте операции NumPy для объединения изображений.\n",
        "   \n",
        "    Для этого необходимо:\n",
        "      - Поэлементно сложить изображения с разной экспозицией.\n",
        "      - Нормализовать итоговое изображение, чтобы значения пикселей находились в диапазоне [0, 255].\n",
        "      - Преобразовать тип данных изображения для предотвращения переполнения во время вычислений.\n",
        "\n",
        "4. **Повышение контрастности:**\n",
        "   - Применить метод выравнивания гистограммы для улучшения контрастности итогового изображения.\n",
        "   - Для цветных изображений преобразовать их в цветовое пространство LAB и применить выравнивание гистограммы к яркостному каналу.\n",
        "\n",
        "5. **Отображение результатов:**\n",
        "   - Отобразить исходное и итоговое изображения рядом с помощью библиотеки `matplotlib`.\n",
        "   - Убедиться в корректном отображении цветовых пространств при использовании `matplotlib` (преобразовать изображения из BGR в RGB).\n"
      ],
      "metadata": {
        "id": "JNxYqd98xstF"
      }
    },
    {
      "cell_type": "markdown",
      "source": [
        "#### **Подсказки и рекомендации:**\n",
        "\n",
        "- **Изменение экспозиции:**\n",
        "  - Можно использовать `cv.convertScaleAbs()` для корректного изменения яркости и преобразования типов данных.\n",
        "  - Коэффициенты изменения яркости должны быть выбраны так, чтобы обеспечить заметное отличие между экспозициями.\n",
        "\n",
        "- **Объединение изображений:**\n",
        "  - Преобразовать изображения в формат `float32` перед суммированием, чтобы избежать переполнения.\n",
        "  - После суммирования разделить итоговое изображение на количество объединяемых изображений для нормализации.\n",
        "  - Использовать функцию `np.clip()` для ограничения значений пикселей в диапазоне [0, 255].\n",
        "  - Преобразовать итоговое изображение обратно в формат `uint8`.\n"
      ],
      "metadata": {
        "id": "yhwdkTxVvdVa"
      }
    },
    {
      "cell_type": "code",
      "source": [
        "# Ваш код"
      ],
      "metadata": {
        "id": "5cHdfiTuuY2i"
      },
      "execution_count": null,
      "outputs": []
    },
    {
      "cell_type": "markdown",
      "source": [
        "---"
      ],
      "metadata": {
        "id": "DM20AGwv8BgL"
      }
    },
    {
      "cell_type": "markdown",
      "source": [
        "### **Комплексное задание №3: Генерация и модификация растровых изображений с использованием графических шаблонов**"
      ],
      "metadata": {
        "id": "erbEsWD0EP-z"
      }
    },
    {
      "cell_type": "markdown",
      "source": [
        "#### Пункт №3.1.\n",
        "\n",
        "**Создайте полностью черное растровое изображение с размерностью (1920, 1080, 3)**"
      ],
      "metadata": {
        "id": "lz3vJhDpDWGF"
      }
    },
    {
      "cell_type": "code",
      "source": [
        "# Ваш код"
      ],
      "metadata": {
        "id": "iwgcEYqcDWPu"
      },
      "execution_count": null,
      "outputs": []
    },
    {
      "cell_type": "markdown",
      "source": [
        "#### Пункт №3.2.\n",
        "\n",
        "**Напишите функцию, которая принимает на вход изображение и целое число n. После чего функция возвращает изображение с числом n графических объектов из линий в верхней части (выше половины высоты).**\n",
        "\n",
        " Графические объекты находятся в случайных местах и выглядят следующим образом:"
      ],
      "metadata": {
        "id": "l8NFCrV6DWYV"
      }
    },
    {
      "cell_type": "markdown",
      "source": [
        "![image.png](data:image/png;base64,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)"
      ],
      "metadata": {
        "id": "DlAgegmVG0MO"
      }
    },
    {
      "cell_type": "code",
      "source": [
        "# Ваш код"
      ],
      "metadata": {
        "id": "VMnBdo70NecH"
      },
      "execution_count": null,
      "outputs": []
    },
    {
      "cell_type": "markdown",
      "source": [
        "#### Пункт №3.3\n",
        "\n",
        "**Напишите функцию, которая принимает на вход изображение и целое число n. После чего функция возвращает изображение с числом n графических объектов из кругов в нижней части.**\n",
        "\n",
        "Графические объекты находятся в случайных местах и выглядят следующим образом:"
      ],
      "metadata": {
        "id": "PLHlcFc1DWji"
      }
    },
    {
      "cell_type": "markdown",
      "source": [
        "![image.png](data:image/png;base64,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)"
      ],
      "metadata": {
        "id": "cmOHJbGkINDP"
      }
    },
    {
      "cell_type": "code",
      "source": [
        "# Ваш код"
      ],
      "metadata": {
        "id": "B9kR3bYGDWuc"
      },
      "execution_count": null,
      "outputs": []
    },
    {
      "cell_type": "markdown",
      "source": [
        "#### Пункт №3.4.\n",
        "\n",
        "**Напишите функцию, которая принимает на вход изображение и целое число n. После чего функция возвращает изображение с числом n графических объектов из полигонов в нижней части.**\n",
        "\n",
        "Графические объекты находятся в случайных местах и выглядят следующим образом:"
      ],
      "metadata": {
        "id": "bNWiyW87InxH"
      }
    },
    {
      "cell_type": "markdown",
      "source": [
        "![image.png](data:image/png;base64,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)"
      ],
      "metadata": {
        "id": "2uyHrvFfKIjF"
      }
    },
    {
      "cell_type": "code",
      "source": [
        "# Ваш код"
      ],
      "metadata": {
        "id": "yA9oIxjgIn6c"
      },
      "execution_count": null,
      "outputs": []
    },
    {
      "cell_type": "markdown",
      "source": [
        "#### Пункт №3.5\n",
        "\n",
        "**Напишите функцию, которая принимает на вход изображение и строку. После чего функция возвращает изображение с наложенным на него текстом из строки.**\n",
        "\n",
        "**Текст должен располагаться в нижней четверти изображения и выровнен по середине**"
      ],
      "metadata": {
        "id": "yc-QEHehIoV2"
      }
    },
    {
      "cell_type": "code",
      "source": [
        "# Ваш код"
      ],
      "metadata": {
        "id": "5APCjC1HIoe7"
      },
      "execution_count": null,
      "outputs": []
    },
    {
      "cell_type": "markdown",
      "source": [
        "#### Пункт №3.6\n",
        "\n",
        "**Примените каждую из этих функций к изображению, созданному в пункте 4.1.**"
      ],
      "metadata": {
        "id": "BF-wtSLJNiTh"
      }
    },
    {
      "cell_type": "code",
      "source": [
        "# Ваш код"
      ],
      "metadata": {
        "id": "Llb1mJJtNrXe"
      },
      "execution_count": null,
      "outputs": []
    },
    {
      "cell_type": "markdown",
      "source": [
        "---"
      ],
      "metadata": {
        "id": "kk1-Kbll8YvS"
      }
    },
    {
      "cell_type": "markdown",
      "source": [
        "### **Комплексное задание №4: Работа с данными радиолокационной съемки (SAR)**"
      ],
      "metadata": {
        "id": "7F7HOKY2N-nA"
      }
    },
    {
      "cell_type": "markdown",
      "source": [
        "#### **Краткая теория:**"
      ],
      "metadata": {
        "id": "dcw3DSk_Bk2t"
      }
    },
    {
      "cell_type": "markdown",
      "source": [
        "Синтетическая апертурная радиолокация (SAR) — это технология, используемая для получения высококачественных радарных изображений земной поверхности. В отличие от традиционных радаров, которые полагаются на передачу и прием радиосигналов, SAR использует активную систему, генерирующую собственные радиосигналы и обрабатывающую их отражения от поверхности для создания изображения.\n",
        "\n",
        "##### **Принцип работы SAR**\n",
        "\n",
        "SAR анализирует время отклика радиоволн, отраженных от поверхности Земли. Радиоволны, испускаемые системой, имеют определенные длину волны и частоту. Когда эти волны достигают поверхности, часть из них отражается обратно к радару. Отражения происходят от различных объектов, таких как здания, леса, водные объекты и даже небольшие изменения рельефа.\n",
        "\n",
        "##### **Каналы SAR**\n",
        "\n",
        "SAR изображения содержат каналы HH и HV, которые представляют различные комбинации направления падающей и рассеиваемой энергии радиоволн:\n",
        "\n",
        "- **Канал HH (горизонтально-горизонтальная поляризация)**: Используется для улучшения разрешающей способности и детализации объектов на изображении, особенно для плотных структур и материалов с границами и разделениями.\n",
        "\n",
        "- **Канал HV (горизонтально-вертикальная поляризация)**: Применяется для выявления изменений в состоянии поверхности, таких как уровень воды в реках, засухи, обледенение и т. д. Он также дополняет информацию канала HH, предоставляя данные о рассеивающих свойствах поверхности.\n",
        "\n",
        "##### **Комбинация каналов**\n",
        "\n",
        "Каналы HH и HV могут быть объединены для создания композитных изображений, которые обеспечивают лучшую видимость и возможность анализа объектов и изменений на поверхности Земли. Это позволяет получать полезные данные о структурах, влажности, границах и других характеристиках поверхности.\n",
        "\n",
        "##### **Применение SAR**\n",
        "\n",
        "SAR изображения находят применение в различных областях:\n",
        "\n",
        "- **Геология**: Изучение геологических структур, обнаружение нефтяных и газовых месторождений, оценка движения земной коры.\n",
        "- **Астрономия**: Исследование поверхности планет и спутников, обнаружение и измерение астероидов и комет.\n",
        "- **Экология**: Отслеживание изменений в растительности, выявление лесных пожаров, контроль использования земли.\n",
        "- **Оборона**: Обнаружение и идентификация целей на земле или воде, независимо от условий освещения."
      ],
      "metadata": {
        "id": "9liR2KffYT_9"
      }
    },
    {
      "cell_type": "markdown",
      "source": [
        "#### **Пункт 4.1. Загрузите изображение и откройте его:**\n",
        "\n",
        "\n"
      ],
      "metadata": {
        "id": "n5BCDga89Epg"
      }
    },
    {
      "cell_type": "markdown",
      "source": [
        "Ссылка на изображение: https://cloud.mail.ru/public/HEvc/aY7eMhHor"
      ],
      "metadata": {
        "id": "lDXQGazEgRNF"
      }
    },
    {
      "cell_type": "markdown",
      "source": [
        "Используя библиотеку tifffile:"
      ],
      "metadata": {
        "id": "jeMGjhzX6IVp"
      }
    },
    {
      "cell_type": "code",
      "source": [
        "import tifffile as tiff\n",
        "\n",
        "img = tiff.imread('PATH_TO_IMAGE') # Возвращается также как и в OpenCV массив Numpy,\n",
        "                                   # далее работаете с методами из OpenCV как обычно"
      ],
      "metadata": {
        "id": "I1IcX2RJ9FXr"
      },
      "execution_count": null,
      "outputs": []
    },
    {
      "cell_type": "code",
      "source": [
        "# Ваш код"
      ],
      "metadata": {
        "id": "yoGqvlEE561P"
      },
      "execution_count": null,
      "outputs": []
    },
    {
      "cell_type": "markdown",
      "source": [
        "#### **Пункт 4.2. Проанализируйте изображение**"
      ],
      "metadata": {
        "id": "c4fNsaMm9Grd"
      }
    },
    {
      "cell_type": "markdown",
      "source": [
        "Выведите тип изображения:"
      ],
      "metadata": {
        "id": "4Up_N0uuBaiJ"
      }
    },
    {
      "cell_type": "code",
      "source": [
        "# Ваш код"
      ],
      "metadata": {
        "id": "f-BCZIAqBasT"
      },
      "execution_count": null,
      "outputs": []
    },
    {
      "cell_type": "markdown",
      "source": [
        "Выведите его размерность:"
      ],
      "metadata": {
        "id": "BHDB5F2H-p9Y"
      }
    },
    {
      "cell_type": "code",
      "source": [
        "# Ваш код"
      ],
      "metadata": {
        "id": "18Ln17PD9Fo5"
      },
      "execution_count": null,
      "outputs": []
    },
    {
      "cell_type": "markdown",
      "source": [
        "Отобразите отдельно каждый канал, используя метод cv2_imshow():"
      ],
      "metadata": {
        "id": "yBVyP5Ff-tr6"
      }
    },
    {
      "cell_type": "code",
      "source": [
        "# Ваш код"
      ],
      "metadata": {
        "id": "YOGpxCrc-t2R"
      },
      "execution_count": null,
      "outputs": []
    },
    {
      "cell_type": "markdown",
      "source": [
        "Отобразите отдельно каждый канал, используя matplotlib:"
      ],
      "metadata": {
        "id": "LBdhLSBex96I"
      }
    },
    {
      "cell_type": "code",
      "source": [
        "# Ваш код"
      ],
      "metadata": {
        "id": "nRg8dAvQx-gI"
      },
      "execution_count": null,
      "outputs": []
    },
    {
      "cell_type": "markdown",
      "source": [
        "Сделайте вывод:\n",
        "\n",
        "\n",
        "*ВАШ ВЫВОД*"
      ],
      "metadata": {
        "id": "84kIzf9qAWME"
      }
    },
    {
      "cell_type": "markdown",
      "source": [
        "Постройте гистограмму изображения, используя функцию img2hist() из теоретических материалов:"
      ],
      "metadata": {
        "id": "JZg40iWL-t9f"
      }
    },
    {
      "cell_type": "code",
      "source": [
        "# Ваш код"
      ],
      "metadata": {
        "id": "QSl2McxD-uEf"
      },
      "execution_count": null,
      "outputs": []
    },
    {
      "cell_type": "markdown",
      "source": [
        "#### **Пункт 4.3. Нормализация SAR-изображения**"
      ],
      "metadata": {
        "id": "fVuTZPpsA5EO"
      }
    },
    {
      "cell_type": "markdown",
      "source": [
        "Перевод в децибелы (dB) может быть полезным для ряда причин при обработке и анализе SAR изображений:\n",
        "\n",
        "1. Нормализация: Перевод в децибелы может использоваться для нормализации значений яркостей на изображении. Такая нормализация позволяет визуально сравнивать яркости пикселей в разных областях изображения или разных изображениях.\n",
        "\n",
        "2. Логарифмическая шкала: Децибелы предоставляют логарифмическую шкалу для оценки яркости сигналов. Логарифмическая шкала часто используется для измерения или анализа сигналов, так как она более чувствительна к изменениям в слабых сигналах и может помочь в выявлении слабых расположенных объектов.\n",
        "\n",
        "3. Снижение динамического диапазона: Одним из преимуществ перевода в децибелы является снижение динамического диапазона значений яркости. Это может быть полезным при обработке и визуализации изображений, так как позволяет лучше выделить детали, особенности и структуры, которые могут быть затеряны в более широком динамическом диапазоне значений.\n",
        "\n",
        "4. Чувствительность к изменениям: Перевод в децибелы позволяет лучше отслеживать и измерять изменения яркости. Изменения в яркости изображений в децибелах отражают более пропорциональные изменения в амплитуде сигнала, что может быть полезным, например, при обработке временных рядов или отслеживании изменений в рамках одного изображения."
      ],
      "metadata": {
        "id": "qYI7YGqa-uKQ"
      }
    },
    {
      "cell_type": "markdown",
      "source": [
        "**Переведите изображение в децибелы, используя следующую функцию:**"
      ],
      "metadata": {
        "id": "cfeqRGkdBNWb"
      }
    },
    {
      "cell_type": "code",
      "source": [
        "def img2dB(image_o, eps=1e-10):\n",
        "    image = image_o.copy()\n",
        "    dB = np.where(image > eps, image, -10)\n",
        "    np.log10(dB, out=dB, where=dB > 0, casting='unsafe')\n",
        "    return dB"
      ],
      "metadata": {
        "id": "e7CVWlHV-uPq"
      },
      "execution_count": null,
      "outputs": []
    },
    {
      "cell_type": "markdown",
      "source": [
        "**Напишите функцию img_to_uint(I), которая принимает на вход одномерный массив I и выполняет следующие действия:**"
      ],
      "metadata": {
        "id": "dMkvwikBBVuy"
      }
    },
    {
      "cell_type": "markdown",
      "source": [
        "1. Находит минимальное значение (mn) и максимальное значение (mx) в массиве I.\n",
        "2. Нормализует значения в массиве I, применяя следующую формулу: I = (I - mn) / (mx - mn).\n",
        "3. Умножает результат на 255.\n",
        "4. Возвращает массив I, приведенный к типу np.uint8. (Команда: I.astype(np.uint8))\n",
        "\n",
        "Пример использования функции:\n",
        "\n",
        "\n",
        "\n",
        "  ```python\n",
        "  I = np.array([10, 20, 30, 40, 50])\n",
        "  normalized_I = img_to_uint(I)\n",
        "  print(normalized_I)\n",
        "  ```\n",
        "\n",
        "Результат:\n",
        "  ```python\n",
        "  array([0,  63, 127, 191, 255], dtype=uint8)\n",
        "  ```"
      ],
      "metadata": {
        "id": "OHpGdXV3PdY0"
      }
    },
    {
      "cell_type": "code",
      "source": [
        "# Ваш код"
      ],
      "metadata": {
        "id": "w4fmPCyZN_EI"
      },
      "execution_count": null,
      "outputs": []
    },
    {
      "cell_type": "markdown",
      "source": [
        "**Примените эту функцию к переведенному в децибелы изображению:**"
      ],
      "metadata": {
        "id": "1SubTgvhN-70"
      }
    },
    {
      "cell_type": "code",
      "source": [
        "# Ваш код"
      ],
      "metadata": {
        "id": "DwD5LgR6Bwrf"
      },
      "execution_count": null,
      "outputs": []
    },
    {
      "cell_type": "markdown",
      "source": [
        "#### **Пункт 4.4. Повышение контрастности изображения**"
      ],
      "metadata": {
        "id": "M2NkTrXJBxJQ"
      }
    },
    {
      "cell_type": "markdown",
      "source": [
        "*В данном задании следует использовать изображение, полученное на предыдущем этапе (6.3).*"
      ],
      "metadata": {
        "id": "NOB1VU4fcmAr"
      }
    },
    {
      "cell_type": "markdown",
      "source": [
        "**Разбейте изображение на отдельные каналы:**"
      ],
      "metadata": {
        "id": "kdSRLVoSB9JO"
      }
    },
    {
      "cell_type": "markdown",
      "source": [
        "\n",
        "\n",
        "```\n",
        "# Можно сделать так:\n",
        "\n",
        "Channel_1 = image[:,:,0]\n",
        "Channel_2 = image[:,:,1]\n",
        "Channel_3 = image[:,:,2]\n",
        "```\n",
        "\n"
      ],
      "metadata": {
        "id": "6kJIecppgOM7"
      }
    },
    {
      "cell_type": "code",
      "source": [
        "# Ваш код"
      ],
      "metadata": {
        "id": "GPurrKOIB9QV"
      },
      "execution_count": null,
      "outputs": []
    },
    {
      "cell_type": "markdown",
      "source": [
        "**С помощью методов для выравнивания гистограммы (адаптивного и не адаптивного), подберите оптимальные параметры контрастности отдельно для каждого канала, таким образом чтобы на них было видно как можно больше деталей и не было много шума:**"
      ],
      "metadata": {
        "id": "VWJxFL2CCCzi"
      }
    },
    {
      "cell_type": "code",
      "source": [
        "# Ваш код"
      ],
      "metadata": {
        "id": "Tmkd2dzGCy6n"
      },
      "execution_count": null,
      "outputs": []
    },
    {
      "cell_type": "markdown",
      "source": [
        "Объедините каналы в одно изображение, в качестве третьего канала используйте целочисленное частное первого и второго каналов, т.е.:\n",
        "\n",
        "\n",
        "\n",
        "```\n",
        "Channel_1 = Channel_1\n",
        "Channel_1 = Channel_2\n",
        "Channel_3 = int(Channel_1/Channel_2)\n",
        "```\n",
        "\n",
        "\n",
        "\n",
        "\n",
        "\n"
      ],
      "metadata": {
        "id": "Lz_6WztRC5Oc"
      }
    },
    {
      "cell_type": "code",
      "source": [
        "# Ваш код"
      ],
      "metadata": {
        "id": "Lkg_OyDcC5qN"
      },
      "execution_count": null,
      "outputs": []
    },
    {
      "cell_type": "markdown",
      "source": [
        "#### **Пункт 4.5. Сегментация изображения по цветовому диапазону**"
      ],
      "metadata": {
        "id": "-ZKw6cgLEqpS"
      }
    },
    {
      "cell_type": "markdown",
      "source": [
        "Напишите функцию, которая принимает на вход **один канал** изображения и количество классов, после чего возвращает сегментированное изображение (маску)\n",
        "\n"
      ],
      "metadata": {
        "id": "xtImBPd-E_AF"
      }
    },
    {
      "cell_type": "markdown",
      "source": [
        "Пример сегментации изображения (до и после):\n",
        "\n",
        "![image.png](data:image/png;base64,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)"
      ],
      "metadata": {
        "id": "Ne1KHhxDFPzs"
      }
    },
    {
      "cell_type": "markdown",
      "source": [
        "В Вашем случае сегментация происходит по следующим правилам:\n",
        "\n",
        "1. Предположим, на вход функция получает изображение и число 4\n",
        "2. Исходный диапазон (0, 255) делится на 4 промежутка: [0, 64), [64, 128), [128,192), [192,255]\n",
        "3. Пиксели, интенсивность которых соответствует первому промежутку меняют свой цвет на красный, второму на черный, третьему на желтый, четвертому на зеленый (цвет Вы выбираете сами)\n",
        "4.Получившаяся маска возвращается\n",
        "\n",
        "Обратите внимание, что функция получает на вход один канал, а возвращать должна цветную маску(!), соответственно, у маски должно быть три канала. (Помним, что изображение это многомерный массив, в котором также можно замещать элементы с помощью перебора или математического аппарата numpy.)"
      ],
      "metadata": {
        "id": "-xZNTDp3FjGg"
      }
    },
    {
      "cell_type": "markdown",
      "source": [
        "**Сегментируйте первый канал изображения:**"
      ],
      "metadata": {
        "id": "vhnoZkESH2KR"
      }
    },
    {
      "cell_type": "code",
      "source": [
        "# Ваш код"
      ],
      "metadata": {
        "id": "tYHzp9GBErIp"
      },
      "execution_count": null,
      "outputs": []
    },
    {
      "cell_type": "markdown",
      "source": [
        "**Сегментируйте второй канал изображения:**"
      ],
      "metadata": {
        "id": "vCln6l1wH76H"
      }
    },
    {
      "cell_type": "code",
      "source": [
        "# Ваш код"
      ],
      "metadata": {
        "id": "iAgGXpX0H8BU"
      },
      "execution_count": null,
      "outputs": []
    },
    {
      "cell_type": "markdown",
      "source": [
        "**Сегментируйте третий канал изображения:**"
      ],
      "metadata": {
        "id": "AmY5hbgKH8G4"
      }
    },
    {
      "cell_type": "code",
      "source": [
        "# Ваш код"
      ],
      "metadata": {
        "id": "er2Af3tWH8lP"
      },
      "execution_count": null,
      "outputs": []
    },
    {
      "cell_type": "markdown",
      "source": [
        "#### **Пункт 4.7. Напишите функцию, которая получает на вход изображение и разделяет его на фрагменты (патчи), размером 256 на 256 пикселей. Функция должна вернуть массив из фрагментов.**\n",
        "\n",
        "\n",
        "\n",
        "\n",
        "\n"
      ],
      "metadata": {
        "id": "uob_6_fiLBwY"
      }
    },
    {
      "cell_type": "markdown",
      "source": [
        "\n",
        "Алгоритм обрезки изображения на равные патчи можно реализовать следующим образом:\n",
        "\n",
        "1. Получить размеры изображения (ширина и высота).\n",
        "2. Задать размеры патча (например, ширина и высота патча равная 256 пикселей).\n",
        "3. Вычислить количество патчей по горизонтали и вертикали, разделив размеры изображения на размеры патча и округлив результаты.\n",
        "4. Создать пустой массив, в котором будут храниться обрезанные патчи.\n",
        "5. Проходя по всем патчам, вырезать каждый патч из исходного изображения, используя размеры патча и текущие координаты.\n",
        "6. Добавить вырезанный патч в массив патчей.\n",
        "7. Вернуть массив патчей как результат работы алгоритма.\n",
        "\n",
        "> Пример:\n",
        ">\n",
        "> Задание удобно выполнить с помощью срезов.\n",
        ">\n",
        "> Поскольку все изображения имеют разный размер, нам необходимо обрезать исходное изображение до ближайшего размера, кратного 256,\n",
        ">\n",
        "> Исходная размерность: (1920, 1080, 3)\n",
        ">\n",
        "> X = 1920 // 256 = 7 (количество фрагментов по горизонтали)\n",
        ">\n",
        "> Y = 1080 // 256 = 4 (количество фрагментов по вертикали)\n",
        ">\n",
        "> X = 256 * 7 = 1792\n",
        ">\n",
        "> Y = 256 * 4 = 1024\n",
        ">\n",
        "> Размерность после обрезки: (1792, 1024, 3)\n",
        ">\n",
        "> После этого итеративно проходимся по изображению (можно двумя циклами - по вертикали и по горизонтали) и помещаем в массив обрезанные фрагменты."
      ],
      "metadata": {
        "id": "RArnP7Fqb9J9"
      }
    },
    {
      "cell_type": "markdown",
      "source": [
        "**Разделите на патчи изображение:**"
      ],
      "metadata": {
        "id": "V1xCOwfTfryg"
      }
    },
    {
      "cell_type": "code",
      "source": [
        "# Ваш код"
      ],
      "metadata": {
        "id": "P6PZ9beDc0h0"
      },
      "execution_count": null,
      "outputs": []
    },
    {
      "cell_type": "markdown",
      "source": [
        "**Разделите на патчи сегментированную маску:**"
      ],
      "metadata": {
        "id": "uI1xB4o8fzGK"
      }
    },
    {
      "cell_type": "code",
      "source": [
        "# Ваш код"
      ],
      "metadata": {
        "id": "WlpO0fwkfzGK"
      },
      "execution_count": null,
      "outputs": []
    },
    {
      "cell_type": "markdown",
      "source": [
        "**После этого сохраните получившиеся массивы в файлы img.npy и mask.npy:**\n",
        "\n",
        "[Документация Numpy](https://numpy.org/doc/stable/reference/generated/numpy.save.html)\n",
        "\n"
      ],
      "metadata": {
        "id": "LKhO76w7cyC3"
      }
    },
    {
      "cell_type": "markdown",
      "source": [
        "##### **Пример сохранения массива в файл:**\n",
        "\n",
        "\n",
        "\n",
        "```python\n",
        "import numpy as np\n",
        "\n",
        "x = np.arange(10)\n",
        "print(x)\n",
        "np.save(\"outfile.npy\", x)\n",
        "```\n",
        "```\n",
        "[0 1 2 3 4 5 6 7 8 9]\n",
        "```\n",
        "\n",
        "\n",
        "##### **Пример загрузки массива из файла:**\n",
        "\n",
        "```python\n",
        "import numpy as np\n",
        "\n",
        "x = np.arange(10)\n",
        "print(x)\n",
        "np.save(\"outfile.npy\", x)\n",
        "```\n",
        "```\n",
        "[0 1 2 3 4 5 6 7 8 9]\n",
        "```"
      ],
      "metadata": {
        "id": "s_EM2PgSfBvV"
      }
    },
    {
      "cell_type": "code",
      "source": [
        "# Ваш код"
      ],
      "metadata": {
        "id": "H_8HP7tdfng1"
      },
      "execution_count": null,
      "outputs": []
    },
    {
      "cell_type": "markdown",
      "source": [
        "**Отобразите, используя matplotlib, 10 случайных элементов патчей растра и маски с одинаковыми индексами (должны соответствовать):**"
      ],
      "metadata": {
        "id": "VcC6lSYXDpAy"
      }
    },
    {
      "cell_type": "code",
      "source": [
        "# Ваш код"
      ],
      "metadata": {
        "id": "FmsXsde2EaK7"
      },
      "execution_count": null,
      "outputs": []
    }
  ]
}